{
  "nbformat": 4,
  "nbformat_minor": 0,
  "metadata": {
    "colab": {
      "provenance": [],
      "authorship_tag": "ABX9TyNcafKIoXwTy/7nrIlkU2nk",
      "include_colab_link": true
    },
    "kernelspec": {
      "name": "python3",
      "display_name": "Python 3"
    },
    "language_info": {
      "name": "python"
    }
  },
  "cells": [
    {
      "cell_type": "markdown",
      "metadata": {
        "id": "view-in-github",
        "colab_type": "text"
      },
      "source": [
        "<a href=\"https://colab.research.google.com/github/YK-Han1009/YK-Han1009/blob/main/coding_samples.ipynb\" target=\"_parent\"><img src=\"https://colab.research.google.com/assets/colab-badge.svg\" alt=\"Open In Colab\"/></a>"
      ]
    },
    {
      "cell_type": "markdown",
      "source": [
        "# Question 1: Addition"
      ],
      "metadata": {
        "id": "mRgcnnktrX65"
      }
    },
    {
      "cell_type": "markdown",
      "source": [
        "# Coding examples"
      ],
      "metadata": {
        "id": "x7lQ_MbOAyUJ"
      }
    },
    {
      "cell_type": "code",
      "source": [
        "number1 = 27\n",
        "number2 = 35\n",
        "sum = number1 + number2\n",
        "print(sum)"
      ],
      "metadata": {
        "colab": {
          "base_uri": "https://localhost:8080/"
        },
        "id": "TJmARxWZreNU",
        "outputId": "4da560d7-013c-4bea-cf25-51fd87954d36"
      },
      "execution_count": null,
      "outputs": [
        {
          "output_type": "stream",
          "name": "stdout",
          "text": [
            "62\n"
          ]
        }
      ]
    },
    {
      "cell_type": "code",
      "source": [
        "number = 3\n",
        "x = 4\n",
        "print (x * number)"
      ],
      "metadata": {
        "colab": {
          "base_uri": "https://localhost:8080/"
        },
        "id": "dfTNHTW1stQ3",
        "outputId": "25a87f2c-5a3b-4840-a807-103fcdb2dab0"
      },
      "execution_count": null,
      "outputs": [
        {
          "output_type": "stream",
          "name": "stdout",
          "text": [
            "12\n"
          ]
        }
      ]
    },
    {
      "cell_type": "code",
      "source": [
        "number = input ()\n",
        "x = 4\n",
        "print (x * number)"
      ],
      "metadata": {
        "colab": {
          "base_uri": "https://localhost:8080/"
        },
        "id": "GrzPLYoGtreT",
        "outputId": "e243d988-9d3c-4a9e-e549-c92a19abe9c3"
      },
      "execution_count": null,
      "outputs": [
        {
          "output_type": "stream",
          "name": "stdout",
          "text": [
            "3\n",
            "3333\n"
          ]
        }
      ]
    },
    {
      "cell_type": "code",
      "source": [
        "k = \"Python\"\n",
        "# [0] is how to access to the data using index\n",
        "# number inside the bracket is called an index\n",
        "# index starts from 0\n",
        "print(k[0])\n",
        "print(k[0:2])\n",
        "print(k[-2:])\n",
        "print(k[:])"
      ],
      "metadata": {
        "colab": {
          "base_uri": "https://localhost:8080/"
        },
        "id": "-rkcxFmB9B8M",
        "outputId": "c06b7d3f-e68c-4c8f-c02b-ca6f81132aec"
      },
      "execution_count": 9,
      "outputs": [
        {
          "output_type": "stream",
          "name": "stdout",
          "text": [
            "P\n",
            "Py\n",
            "on\n",
            "Python\n"
          ]
        }
      ]
    },
    {
      "cell_type": "markdown",
      "source": [
        "# Function"
      ],
      "metadata": {
        "id": "KP9EPD7lFUli"
      }
    },
    {
      "cell_type": "code",
      "source": [
        "# Copy and paste the above function and run it\n",
        "\n",
        "def add_numbers(num1, num2):\n",
        "    result = num1 + num2\n",
        "    return result"
      ],
      "metadata": {
        "id": "2wI4GWK1AGpK"
      },
      "execution_count": 10,
      "outputs": []
    },
    {
      "cell_type": "code",
      "source": [
        "add_numbers(13, 5)"
      ],
      "metadata": {
        "colab": {
          "base_uri": "https://localhost:8080/"
        },
        "id": "PH2Y6x1eAdae",
        "outputId": "6439366c-da9e-4e0f-819d-fa7f891dc117"
      },
      "execution_count": 17,
      "outputs": [
        {
          "output_type": "execute_result",
          "data": {
            "text/plain": [
              "18"
            ]
          },
          "metadata": {},
          "execution_count": 17
        }
      ]
    },
    {
      "cell_type": "markdown",
      "source": [
        "## **\"#@markdown\" 를 앞에 적으면 코드 숨기기.**"
      ],
      "metadata": {
        "id": "0YLb_I20FC_Y"
      }
    },
    {
      "cell_type": "markdown",
      "source": [
        "|Data type|Format|Example|\n",
        "|:--:|:--:|:--:|\n",
        "|number|int, float|2, 2.0|\n",
        "|string|charcter|'my way', '2'|\n",
        "|list|[element1, element2, ...]|[1,2,4], ['Mary','Tom','Jane'|\n",
        "|dictionary|{key: value}|{'English': 80, 'Korean':90}|\n",
        "|tuple|(element1, element2, ...)|('zero', 0), (\"Mon\",\"Tue\",\"Wed\",...)\n",
        "\n",
        "Note: integer (정수), floating (실수)"
      ],
      "metadata": {
        "id": "Xyy4oZKnchPo"
      }
    },
    {
      "cell_type": "markdown",
      "source": [
        "# Numbers"
      ],
      "metadata": {
        "id": "PRqVjzdCKCFC"
      }
    },
    {
      "cell_type": "code",
      "source": [
        "# This code will yield an error due to the data type.\n",
        "#input() is string\n",
        "age = input() #int로 바꿔줘야 함. 즉, 숫자로 인식하게.\n",
        "print(age + 3)"
      ],
      "metadata": {
        "colab": {
          "base_uri": "https://localhost:8080/",
          "height": 198
        },
        "id": "uaanjtEMJ8RC",
        "outputId": "14fa8165-bd01-402a-9da2-32dd306fdd15"
      },
      "execution_count": 19,
      "outputs": [
        {
          "name": "stdout",
          "output_type": "stream",
          "text": [
            "3\n"
          ]
        },
        {
          "output_type": "error",
          "ename": "TypeError",
          "evalue": "can only concatenate str (not \"int\") to str",
          "traceback": [
            "\u001b[0;31m---------------------------------------------------------------------------\u001b[0m",
            "\u001b[0;31mTypeError\u001b[0m                                 Traceback (most recent call last)",
            "\u001b[0;32m<ipython-input-19-6f84073e66c7>\u001b[0m in \u001b[0;36m<cell line: 3>\u001b[0;34m()\u001b[0m\n\u001b[1;32m      1\u001b[0m \u001b[0;31m# This code will yield an error due to the data type.\u001b[0m\u001b[0;34m\u001b[0m\u001b[0;34m\u001b[0m\u001b[0m\n\u001b[1;32m      2\u001b[0m \u001b[0mage\u001b[0m \u001b[0;34m=\u001b[0m \u001b[0minput\u001b[0m\u001b[0;34m(\u001b[0m\u001b[0;34m)\u001b[0m\u001b[0;34m\u001b[0m\u001b[0;34m\u001b[0m\u001b[0m\n\u001b[0;32m----> 3\u001b[0;31m \u001b[0mprint\u001b[0m\u001b[0;34m(\u001b[0m\u001b[0mage\u001b[0m \u001b[0;34m+\u001b[0m \u001b[0;36m3\u001b[0m\u001b[0;34m)\u001b[0m\u001b[0;34m\u001b[0m\u001b[0;34m\u001b[0m\u001b[0m\n\u001b[0m",
            "\u001b[0;31mTypeError\u001b[0m: can only concatenate str (not \"int\") to str"
          ]
        }
      ]
    },
    {
      "cell_type": "code",
      "source": [
        "age = input()\n",
        "age = int(age)\n",
        "print(age + 3)"
      ],
      "metadata": {
        "colab": {
          "base_uri": "https://localhost:8080/"
        },
        "id": "Uhlvtf5uJ-vL",
        "outputId": "e8b5d65f-4b52-41dd-fba5-8d265e78628c"
      },
      "execution_count": 20,
      "outputs": [
        {
          "output_type": "stream",
          "name": "stdout",
          "text": [
            "3\n",
            "6\n"
          ]
        }
      ]
    },
    {
      "cell_type": "markdown",
      "source": [
        "# String"
      ],
      "metadata": {
        "id": "CWsE_nQRTC6O"
      }
    },
    {
      "cell_type": "code",
      "source": [
        "# An example of a string\n",
        "name = input()\n",
        "print(f\"Hi, {name}!\")"
      ],
      "metadata": {
        "colab": {
          "base_uri": "https://localhost:8080/"
        },
        "id": "GLmg5QEiLAtp",
        "outputId": "894b4630-ec1e-4750-beca-70ba894d180f"
      },
      "execution_count": 22,
      "outputs": [
        {
          "output_type": "stream",
          "name": "stdout",
          "text": [
            "Yuna\n",
            "Hi, Yuna!\n"
          ]
        }
      ]
    },
    {
      "cell_type": "code",
      "source": [
        "# An example of a string\n",
        "name = \"Mary\"\n",
        "print(f\"Hi, {name}!\")"
      ],
      "metadata": {
        "colab": {
          "base_uri": "https://localhost:8080/"
        },
        "id": "hdP6q7iGLMgJ",
        "outputId": "027e2ba1-be90-454b-c075-be4ce6955f72"
      },
      "execution_count": 23,
      "outputs": [
        {
          "output_type": "stream",
          "name": "stdout",
          "text": [
            "Hi, Mary!\n"
          ]
        }
      ]
    },
    {
      "cell_type": "code",
      "source": [
        "mytext = \"\"\"I am Yuna. I am a teacher.\"\"\""
      ],
      "metadata": {
        "id": "HgsGQT3zOafe"
      },
      "execution_count": 30,
      "outputs": []
    },
    {
      "cell_type": "code",
      "source": [
        "len(mytext) #number of character"
      ],
      "metadata": {
        "colab": {
          "base_uri": "https://localhost:8080/"
        },
        "id": "1JE4d80HOtYM",
        "outputId": "e6c27a2c-bd78-432f-a8f6-ea3f839971f8"
      },
      "execution_count": 31,
      "outputs": [
        {
          "output_type": "execute_result",
          "data": {
            "text/plain": [
              "26"
            ]
          },
          "metadata": {},
          "execution_count": 31
        }
      ]
    },
    {
      "cell_type": "code",
      "source": [
        "words = mytext.split() #.split() splits strings by space (default)\n",
        "\n",
        "print(\"Number of words: \",len(words))"
      ],
      "metadata": {
        "colab": {
          "base_uri": "https://localhost:8080/"
        },
        "id": "JbnLTvCbO_8M",
        "outputId": "1b43de36-03fa-4e22-8fbc-7457365e9da2"
      },
      "execution_count": 32,
      "outputs": [
        {
          "output_type": "stream",
          "name": "stdout",
          "text": [
            "Number of words:  7\n"
          ]
        }
      ]
    },
    {
      "cell_type": "code",
      "source": [
        "sents = mytext.split(\".\")\n",
        "print(\"Number of sentences: \",len(sents))"
      ],
      "metadata": {
        "colab": {
          "base_uri": "https://localhost:8080/"
        },
        "id": "fSZD6vntPEzM",
        "outputId": "e87a9f05-18fa-49a1-a7e3-d21bf41e3744"
      },
      "execution_count": 33,
      "outputs": [
        {
          "output_type": "stream",
          "name": "stdout",
          "text": [
            "Number of sentences:  3\n"
          ]
        }
      ]
    },
    {
      "cell_type": "code",
      "source": [
        "text = input(\"Paste your text here: \")\n",
        "words = text.split()\n",
        "sents = text.split(\".\")\n",
        "\n",
        "print(\"1) N of string: \", len(text))\n",
        "print(\"2) N of words: \", len(words))\n",
        "print(\"3) N of sentences: \", len(sents))"
      ],
      "metadata": {
        "colab": {
          "base_uri": "https://localhost:8080/"
        },
        "id": "K00m4TriPvMZ",
        "outputId": "6e889ea4-b0e3-4802-bd9f-27cba6cf3c8c"
      },
      "execution_count": 35,
      "outputs": [
        {
          "output_type": "stream",
          "name": "stdout",
          "text": [
            "Paste your text here:  A Fox one day spied a beautiful bunch of ripe grapes hanging from a vine trained along the branches of a tree. The grapes seemed ready to burst with juice, and the Fox's mouth watered as he gazed longingly at them.  The bunch hung from a high branch, and the Fox had to jump for it. The first time he jumped he missed it by a long way. So he walked off a short distance and took a running leap at it, only to fall short once more. Again and again he tried, but in vain.\n",
            "1) N of string:  470\n",
            "2) N of words:  96\n",
            "3) N of sentences:  7\n"
          ]
        }
      ]
    },
    {
      "cell_type": "markdown",
      "source": [
        "# List"
      ],
      "metadata": {
        "id": "DDqtNiFrRn1W"
      }
    },
    {
      "cell_type": "code",
      "source": [
        "# An example of a list\n",
        "favorite_books = [\"To Kill a Mockingbird\", \"1984\", \"The Great Gatsby\"]\n",
        "print(\"Favorite Books:\", favorite_books)\n",
        "\n",
        "# Accessing a list\n",
        "print(\"First book: \", favorite_books[0])"
      ],
      "metadata": {
        "colab": {
          "base_uri": "https://localhost:8080/"
        },
        "id": "7gdLFzFIRq-K",
        "outputId": "f4103dd2-df2d-4e7c-d819-0b74410c14d8"
      },
      "execution_count": 36,
      "outputs": [
        {
          "output_type": "stream",
          "name": "stdout",
          "text": [
            "Favorite Books: ['To Kill a Mockingbird', '1984', 'The Great Gatsby']\n",
            "First book:  To Kill a Mockingbird\n"
          ]
        }
      ]
    },
    {
      "cell_type": "code",
      "source": [
        "# Creating a list with some elements\n",
        "fruits = [\"apple\", \"banana\", \"cherry\"]\n",
        "print(fruits)\n",
        "\n",
        "fruits.append(\"melon\")\n",
        "print(fruits)"
      ],
      "metadata": {
        "colab": {
          "base_uri": "https://localhost:8080/"
        },
        "id": "mKp_4AndSIu3",
        "outputId": "5b24f70b-6871-4674-a359-74d63296b1ab"
      },
      "execution_count": 38,
      "outputs": [
        {
          "output_type": "stream",
          "name": "stdout",
          "text": [
            "['apple', 'banana', 'cherry']\n",
            "['apple', 'banana', 'cherry', 'melon']\n"
          ]
        }
      ]
    },
    {
      "cell_type": "code",
      "source": [
        "# Accessing the first element\n",
        "fruits[1]"
      ],
      "metadata": {
        "colab": {
          "base_uri": "https://localhost:8080/",
          "height": 36
        },
        "id": "58yFxZK4SOr4",
        "outputId": "c2ba9484-f4c4-4f79-dbd1-387c306ade2f"
      },
      "execution_count": 39,
      "outputs": [
        {
          "output_type": "execute_result",
          "data": {
            "text/plain": [
              "'banana'"
            ],
            "application/vnd.google.colaboratory.intrinsic+json": {
              "type": "string"
            }
          },
          "metadata": {},
          "execution_count": 39
        }
      ]
    },
    {
      "cell_type": "code",
      "source": [
        "# Removing an element by value\n",
        "# Creating a list with some elements\n",
        "fruits = [\"apple\", \"banana\", \"cherry\"]\n",
        "# Removeing using a remove function\n",
        "fruits.remove(\"banana\")\n",
        "print(fruits)\n",
        "# Removing an element by index\n",
        "del fruits[0]  # Removes the first element\n",
        "\n",
        "print(fruits)"
      ],
      "metadata": {
        "colab": {
          "base_uri": "https://localhost:8080/"
        },
        "id": "CpaIISlGSrjh",
        "outputId": "a405f4ec-a87e-4383-d02f-217897e35842"
      },
      "execution_count": 40,
      "outputs": [
        {
          "output_type": "stream",
          "name": "stdout",
          "text": [
            "['apple', 'cherry']\n",
            "['cherry']\n"
          ]
        }
      ]
    },
    {
      "cell_type": "code",
      "source": [
        "# Sorting a list without modifying the original list\n",
        "fruits = [\"cherry\", \"mango\", \"orange\",\"apple\", \"banana\"]\n",
        "print(\"Original: \", fruits)\n",
        "# Alphabetical order\n",
        "sorted_fruits = sorted(fruits)\n",
        "print(\"Sorted: \", sorted_fruits)"
      ],
      "metadata": {
        "colab": {
          "base_uri": "https://localhost:8080/"
        },
        "id": "0b7vgRlvTvUc",
        "outputId": "1165b40b-faa5-4d8c-d399-2d580aab119b"
      },
      "execution_count": 41,
      "outputs": [
        {
          "output_type": "stream",
          "name": "stdout",
          "text": [
            "Original:  ['cherry', 'mango', 'orange', 'apple', 'banana']\n",
            "Sorted:  ['apple', 'banana', 'cherry', 'mango', 'orange']\n"
          ]
        }
      ]
    },
    {
      "cell_type": "code",
      "source": [
        "# decreasing order\n",
        "sorted(fruits, reverse=True)"
      ],
      "metadata": {
        "colab": {
          "base_uri": "https://localhost:8080/"
        },
        "id": "iMsf1M5PTyVI",
        "outputId": "53b199a8-ee04-4a25-8746-7f9bfb92ea8d"
      },
      "execution_count": 42,
      "outputs": [
        {
          "output_type": "execute_result",
          "data": {
            "text/plain": [
              "['orange', 'mango', 'cherry', 'banana', 'apple']"
            ]
          },
          "metadata": {},
          "execution_count": 42
        }
      ]
    },
    {
      "cell_type": "markdown",
      "source": [
        "# Dictionary"
      ],
      "metadata": {
        "id": "TyolSXyhVWfL"
      }
    },
    {
      "cell_type": "code",
      "source": [
        "# Dictionary with some data\n",
        "person = {\"name\": \"John\", \"age\": 45, \"city\": \"New York\"}\n",
        "print(person)"
      ],
      "metadata": {
        "colab": {
          "base_uri": "https://localhost:8080/"
        },
        "id": "gC_B6rjuVY2v",
        "outputId": "c5bd69e5-6abc-4aff-e5c0-feb776f20ee3"
      },
      "execution_count": 61,
      "outputs": [
        {
          "output_type": "stream",
          "name": "stdout",
          "text": [
            "{'name': 'John', 'age': 45, 'city': 'New York'}\n"
          ]
        }
      ]
    },
    {
      "cell_type": "code",
      "source": [
        "# Accessing value by key\n",
        "name = person[\"name\"]  # \"John\"\n",
        "print(name)"
      ],
      "metadata": {
        "colab": {
          "base_uri": "https://localhost:8080/"
        },
        "id": "27h8VNsPVjsd",
        "outputId": "55a4aa57-7a2c-4887-c2b5-14db926e8c5f"
      },
      "execution_count": 54,
      "outputs": [
        {
          "output_type": "stream",
          "name": "stdout",
          "text": [
            "John\n"
          ]
        }
      ]
    },
    {
      "cell_type": "code",
      "source": [
        "age = person[\"age\"]\n",
        "print(age)"
      ],
      "metadata": {
        "colab": {
          "base_uri": "https://localhost:8080/"
        },
        "id": "DgLBjMlJWqn-",
        "outputId": "2287654d-36ea-4201-c711-6f4b7c3b6cfa"
      },
      "execution_count": 62,
      "outputs": [
        {
          "output_type": "stream",
          "name": "stdout",
          "text": [
            "45\n"
          ]
        }
      ]
    },
    {
      "cell_type": "markdown",
      "source": [],
      "metadata": {
        "id": "x9PbC8pcblIF"
      }
    },
    {
      "cell_type": "markdown",
      "source": [
        "# 📗 Markdown manual\n",
        "#1. **First** __First__\n",
        "##2. *Second* _Second_\n",
        "###3.\n",
        "\n",
        "- item 1\n",
        "* Item 1\n",
        "+ Item 3\n",
        "\n",
        "[OpenAI](https://www.openai.com)\n",
        "\n",
        "![This is an image](/path/to/image.jpg)\n",
        "- in the () put path or url\n",
        "\n",
        "\n",
        "> This is a blockquote.\n",
        "\n",
        "\n",
        "`This is inline code`\n",
        "\n",
        "\n",
        "````this is inline code````\n",
        "\n",
        "\n",
        "    This is inline code\n",
        "\n",
        "\n",
        "* To create a horizontal rule, use three or more asterisks (***), dashes (---), or underscores (___).\n",
        "\n",
        "\n",
        "* To create a horizontal rule, use three or more asterisks (***), dashes (---), or underscores (___).\n",
        "\n",
        "    Tables\n",
        "\n",
        "    \n",
        "| Header 1 | Header 2 | Header 3 |\n",
        "|----------|----------|----------|\n",
        "| Row 1    | Data     | Data     |\n",
        "| Row 2    | Data     | Data     |\n",
        "\n",
        "    \n",
        "\n",
        "\n",
        "    Task Lists\n",
        "To create a task list, start items with a dash and a space, followed by [ ] for an incomplete task or [x] for a completed task.\n",
        "\n",
        "\n"
      ],
      "metadata": {
        "id": "kIccEZi1ZHLq"
      }
    }
  ]
}